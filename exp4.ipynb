{
 "cells": [
  {
   "cell_type": "code",
   "execution_count": 1,
   "id": "31bd040e-81b4-4f24-8092-ebc9a452bd78",
   "metadata": {},
   "outputs": [],
   "source": [
    "from sklearn.metrics import confusion_matrix"
   ]
  },
  {
   "cell_type": "code",
   "execution_count": 2,
   "id": "cf308a90-8ad8-42c8-9044-2f0208f61202",
   "metadata": {},
   "outputs": [],
   "source": [
    "x_actual = [1,1,0,1,0,0,1,0,0,1]"
   ]
  },
  {
   "cell_type": "code",
   "execution_count": 3,
   "id": "57dded45-201b-43fd-b8d8-db0d2b8484b5",
   "metadata": {},
   "outputs": [],
   "source": [
    "y_predic = [1,0,1,1,1,0,1,1,1,0]"
   ]
  },
  {
   "cell_type": "code",
   "execution_count": 4,
   "id": "df11ff54-18fc-4726-83f7-e872c6578dbf",
   "metadata": {},
   "outputs": [],
   "source": [
    "result = confusion_matrix(x_actual,y_predic)"
   ]
  },
  {
   "cell_type": "code",
   "execution_count": 6,
   "id": "f1196932-3bc9-4cb6-850e-8b8f75a60e13",
   "metadata": {},
   "outputs": [
    {
     "name": "stdout",
     "output_type": "stream",
     "text": [
      "Confusion Matrix:\n",
      " [[1 4]\n",
      " [2 3]]\n"
     ]
    }
   ],
   "source": [
    "print(\"Confusion Matrix:\\n\",result)"
   ]
  },
  {
   "cell_type": "code",
   "execution_count": 9,
   "id": "747a44e7-e3f4-4425-970b-57344c25ea06",
   "metadata": {},
   "outputs": [],
   "source": [
    "TP = result[0][0]\n",
    "TN = result[0][1]\n",
    "FP = result[1][0]\n",
    "FN = result[1][1]"
   ]
  },
  {
   "cell_type": "code",
   "execution_count": 10,
   "id": "8377f262-0677-46c8-85dc-ab16844c9629",
   "metadata": {},
   "outputs": [],
   "source": [
    "Total = TP + TN + FP + FN\n",
    "Error_Rate = (FP + FN)/Total"
   ]
  },
  {
   "cell_type": "code",
   "execution_count": 11,
   "id": "88589fa1-1e52-4f8f-a8b8-185ce776f428",
   "metadata": {},
   "outputs": [
    {
     "name": "stdout",
     "output_type": "stream",
     "text": [
      "Error Rate :  0.5\n"
     ]
    }
   ],
   "source": [
    "print(\"Error Rate : \",Error_Rate)"
   ]
  },
  {
   "cell_type": "code",
   "execution_count": 12,
   "id": "619110f9-9e9b-4323-94a3-0095a2f48c0c",
   "metadata": {},
   "outputs": [],
   "source": [
    "P_a = ( TP + FP ) / Total\n",
    "P_Pr = (((TP + FN) / Total ) * (TP + FP) / Total) + ( ((TN + FN)/Total) * ((TN + FP) / Total ))"
   ]
  },
  {
   "cell_type": "code",
   "execution_count": 14,
   "id": "31be4ca4-e7cf-49e1-a726-98f5c598de1d",
   "metadata": {},
   "outputs": [
    {
     "name": "stdout",
     "output_type": "stream",
     "text": [
      "Kappa Value :  -0.5217391304347827\n"
     ]
    }
   ],
   "source": [
    "Kappa_Value = (P_a - P_Pr) / (1-P_Pr)\n",
    "print(\"Kappa Value : \",Kappa_Value)"
   ]
  },
  {
   "cell_type": "code",
   "execution_count": 19,
   "id": "cdc8755c-6a3c-40c3-a1d8-b150b26ca235",
   "metadata": {},
   "outputs": [],
   "source": [
    "Sensitivity = TP / (TP + FN)"
   ]
  },
  {
   "cell_type": "code",
   "execution_count": 20,
   "id": "071b230f-93fe-4c28-957f-7b1a125a1c5c",
   "metadata": {},
   "outputs": [],
   "source": [
    "Specificity = TN / (TN + FP)"
   ]
  },
  {
   "cell_type": "code",
   "execution_count": 21,
   "id": "3baa1763-8804-42fe-b142-445e005b9912",
   "metadata": {},
   "outputs": [],
   "source": [
    "Precision = TP / (TP + FP)"
   ]
  },
  {
   "cell_type": "code",
   "execution_count": 22,
   "id": "9d0bfece-d090-4231-a457-66128f80ce47",
   "metadata": {},
   "outputs": [],
   "source": [
    "Recall = TP / (TP + FN)"
   ]
  },
  {
   "cell_type": "code",
   "execution_count": 29,
   "id": "d735ec27-2a5b-4622-82a9-5baeaf271932",
   "metadata": {},
   "outputs": [
    {
     "name": "stdout",
     "output_type": "stream",
     "text": [
      " Sensitivity : 0.25 \n",
      " Specificity : 0.6666666666666666\n",
      " Precision : 0.3333333333333333 \n",
      " Recall : 0.25\n"
     ]
    }
   ],
   "source": [
    "print(f\" Sensitivity : {Sensitivity} \\n Specificity : {Specificity}\",)\n",
    "print(f\" Precision : {Precision} \\n Recall : {Recall}\",)"
   ]
  },
  {
   "cell_type": "code",
   "execution_count": 31,
   "id": "4058a838-0360-4881-8019-6b5bd20725b8",
   "metadata": {},
   "outputs": [
    {
     "name": "stdout",
     "output_type": "stream",
     "text": [
      "F Measure :  0.28571428571428575\n"
     ]
    }
   ],
   "source": [
    "fmeasure = (2 * Precision * Recall) / (Precision + Recall)\n",
    "print(\"F Measure : \",fmeasure)"
   ]
  },
  {
   "cell_type": "code",
   "execution_count": null,
   "id": "3cb6a16c-8ba6-4c45-94a4-29e2793a1494",
   "metadata": {},
   "outputs": [],
   "source": []
  }
 ],
 "metadata": {
  "kernelspec": {
   "display_name": "Python 3 (ipykernel)",
   "language": "python",
   "name": "python3"
  },
  "language_info": {
   "codemirror_mode": {
    "name": "ipython",
    "version": 3
   },
   "file_extension": ".py",
   "mimetype": "text/x-python",
   "name": "python",
   "nbconvert_exporter": "python",
   "pygments_lexer": "ipython3",
   "version": "3.12.0"
  }
 },
 "nbformat": 4,
 "nbformat_minor": 5
}
