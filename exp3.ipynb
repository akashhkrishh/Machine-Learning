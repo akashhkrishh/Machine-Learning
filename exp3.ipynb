{
 "cells": [
  {
   "cell_type": "code",
   "execution_count": 40,
   "id": "16730d20-ab45-49a0-8ddc-a7ca18fd286e",
   "metadata": {},
   "outputs": [],
   "source": [
    "import pandas as pd\n",
    "from numpy import set_printoptions\n",
    "from sklearn.feature_selection import SelectKBest\n",
    "from sklearn.feature_selection import f_classif\n",
    "from sklearn.decomposition import PCA"
   ]
  },
  {
   "cell_type": "code",
   "execution_count": 24,
   "id": "c49171fa-7e76-4965-88ef-931ca4a07177",
   "metadata": {},
   "outputs": [],
   "source": [
    "names = ['preg','plas','pres','skin','test','mass','pedi','age','class']"
   ]
  },
  {
   "cell_type": "code",
   "execution_count": 25,
   "id": "77cd2d2b-8aa9-4143-bc7e-a380e079aebe",
   "metadata": {},
   "outputs": [],
   "source": [
    "df = pd.read_csv('Datasets/pima-indians-diabetes.csv',names=names)"
   ]
  },
  {
   "cell_type": "code",
   "execution_count": 26,
   "id": "7eebda64-c79d-442f-a31b-be22ddd60956",
   "metadata": {},
   "outputs": [],
   "source": [
    "array = df.values"
   ]
  },
  {
   "cell_type": "code",
   "execution_count": 27,
   "id": "a0b10940-8843-48bb-a907-09d66465d0b6",
   "metadata": {},
   "outputs": [],
   "source": [
    "X = array[:,0:8]\n",
    "Y = array[:,8]"
   ]
  },
  {
   "cell_type": "code",
   "execution_count": 28,
   "id": "c109e726-233b-4efa-be03-051786508714",
   "metadata": {},
   "outputs": [],
   "source": [
    "test = SelectKBest(score_func=f_classif,k=4)"
   ]
  },
  {
   "cell_type": "code",
   "execution_count": 29,
   "id": "da5d641a-ab73-4c2c-82c4-3fd32ded2f12",
   "metadata": {},
   "outputs": [],
   "source": [
    "fit = test.fit(X,Y)"
   ]
  },
  {
   "cell_type": "code",
   "execution_count": 35,
   "id": "6de69264-6ef0-42e8-9510-97faab5f2c6c",
   "metadata": {},
   "outputs": [],
   "source": [
    "set_printoptions(precision=3)"
   ]
  },
  {
   "cell_type": "code",
   "execution_count": 37,
   "id": "3b2167cb-4b69-44ec-97f6-194e1615ea03",
   "metadata": {},
   "outputs": [
    {
     "name": "stdout",
     "output_type": "stream",
     "text": [
      "[ 39.67  213.162   3.257   4.304  13.281  71.772  23.871  46.141]\n"
     ]
    }
   ],
   "source": [
    "print(fit.scores_)"
   ]
  },
  {
   "cell_type": "code",
   "execution_count": 38,
   "id": "ae2209c4-0262-4905-8122-9824e383ff43",
   "metadata": {},
   "outputs": [],
   "source": [
    "feature = fit.transform(X)"
   ]
  },
  {
   "cell_type": "code",
   "execution_count": 39,
   "id": "5c2fc637-035a-4500-99fd-6624fed20823",
   "metadata": {},
   "outputs": [
    {
     "name": "stdout",
     "output_type": "stream",
     "text": [
      "[[  6.  148.   33.6  50. ]\n",
      " [  1.   85.   26.6  31. ]\n",
      " [  8.  183.   23.3  32. ]\n",
      " [  1.   89.   28.1  21. ]\n",
      " [  0.  137.   43.1  33. ]]\n"
     ]
    }
   ],
   "source": [
    "print(feature[0:5,:])"
   ]
  },
  {
   "cell_type": "code",
   "execution_count": 49,
   "id": "d44d71d6-34af-4055-9be8-650a79db3f94",
   "metadata": {},
   "outputs": [],
   "source": [
    "pca = PCA(n_components=3)"
   ]
  },
  {
   "cell_type": "code",
   "execution_count": 50,
   "id": "c6637587-1147-4930-b136-1fab40ce115d",
   "metadata": {},
   "outputs": [],
   "source": [
    "pcafit = pca.fit(X)"
   ]
  },
  {
   "cell_type": "code",
   "execution_count": 53,
   "id": "e433c15b-c899-4abe-8642-e6fd31fc5beb",
   "metadata": {},
   "outputs": [
    {
     "name": "stdout",
     "output_type": "stream",
     "text": [
      "Explained Varience: [0.889 0.062 0.026]\n"
     ]
    }
   ],
   "source": [
    "print(\"Explained Varience:\",pcafit.explained_variance_ratio_)"
   ]
  },
  {
   "cell_type": "code",
   "execution_count": null,
   "id": "75c12270-8232-4364-ac3b-a2173749b35d",
   "metadata": {},
   "outputs": [],
   "source": []
  }
 ],
 "metadata": {
  "kernelspec": {
   "display_name": "Python 3 (ipykernel)",
   "language": "python",
   "name": "python3"
  },
  "language_info": {
   "codemirror_mode": {
    "name": "ipython",
    "version": 3
   },
   "file_extension": ".py",
   "mimetype": "text/x-python",
   "name": "python",
   "nbconvert_exporter": "python",
   "pygments_lexer": "ipython3",
   "version": "3.12.0"
  }
 },
 "nbformat": 4,
 "nbformat_minor": 5
}
