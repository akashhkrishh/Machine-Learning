{
 "cells": [
  {
   "cell_type": "code",
   "execution_count": 1,
   "id": "8e6a15f9-e02c-434f-a7b1-8da889ed542f",
   "metadata": {},
   "outputs": [],
   "source": [
    "import numpy as np\n",
    "import pandas as pd\n",
    "import statistics as s\n",
    "import matplotlib.pyplot as mb"
   ]
  },
  {
   "cell_type": "code",
   "execution_count": 4,
   "id": "975e5a74-ed26-4156-8eb1-25d189e4a5f0",
   "metadata": {},
   "outputs": [],
   "source": [
    "df = pd.read_csv(\"Datasets/weather.csv\")"
   ]
  },
  {
   "cell_type": "code",
   "execution_count": 6,
   "id": "405f28ad-212d-4cfe-ab40-4dbd31354d0a",
   "metadata": {},
   "outputs": [
    {
     "name": "stdout",
     "output_type": "stream",
     "text": [
      "                  Formatted Date        Summary Precip Type  Temperatur  \\\n",
      "0  2006-04-01 00:00:00.000 +0200  Partly Cloudy        rain    9.472222   \n",
      "1  2006-04-01 01:00:00.000 +0200  Partly Cloudy        rain         NaN   \n",
      "2  2006-04-01 02:00:00.000 +0200  Mostly Cloudy         NaN    9.377778   \n",
      "3  2006-04-01 03:00:00.000 +0200  Partly Cloudy        rain    8.288889   \n",
      "4  2006-04-01 04:00:00.000 +0200  Mostly Cloudy        rain    8.755556   \n",
      "\n",
      "   Apparent Temperature (C)  Humidity  Wind Speed (km/h)  \\\n",
      "0                  7.388889      0.89            14.1197   \n",
      "1                  7.227778      0.86            14.2646   \n",
      "2                  9.377778      0.89             3.9284   \n",
      "3                       NaN      0.83            14.1036   \n",
      "4                  6.977778      0.83            11.0446   \n",
      "\n",
      "   Wind Bearing (degrees)  Visibility (km)  Loud Cover  Pressure (millibars)  \\\n",
      "0                     251          15.8263           0               1015.13   \n",
      "1                     259          15.8263           0               1015.63   \n",
      "2                     204          14.9569           0               1015.94   \n",
      "3                     269          15.8263           0               1016.41   \n",
      "4                     259          15.8263           0               1016.51   \n",
      "\n",
      "                       Daily Summary  \n",
      "0  Partly cloudy throughout the day.  \n",
      "1  Partly cloudy throughout the day.  \n",
      "2  Partly cloudy throughout the day.  \n",
      "3  Partly cloudy throughout the day.  \n",
      "4  Partly cloudy throughout the day.  \n"
     ]
    }
   ],
   "source": [
    "print(df.head())"
   ]
  },
  {
   "cell_type": "code",
   "execution_count": 7,
   "id": "2a41ed95-bc20-456b-a268-4f45ca1bfd1d",
   "metadata": {},
   "outputs": [
    {
     "name": "stdout",
     "output_type": "stream",
     "text": [
      "<class 'pandas.core.frame.DataFrame'>\n",
      "RangeIndex: 99 entries, 0 to 98\n",
      "Data columns (total 12 columns):\n",
      " #   Column                    Non-Null Count  Dtype  \n",
      "---  ------                    --------------  -----  \n",
      " 0   Formatted Date            99 non-null     object \n",
      " 1   Summary                   94 non-null     object \n",
      " 2   Precip Type               94 non-null     object \n",
      " 3   Temperatur                96 non-null     float64\n",
      " 4   Apparent Temperature (C)  96 non-null     float64\n",
      " 5   Humidity                  99 non-null     float64\n",
      " 6   Wind Speed (km/h)         98 non-null     float64\n",
      " 7   Wind Bearing (degrees)    99 non-null     int64  \n",
      " 8   Visibility (km)           99 non-null     float64\n",
      " 9   Loud Cover                99 non-null     int64  \n",
      " 10  Pressure (millibars)      97 non-null     float64\n",
      " 11  Daily Summary             91 non-null     object \n",
      "dtypes: float64(6), int64(2), object(4)\n",
      "memory usage: 9.4+ KB\n",
      "None\n"
     ]
    }
   ],
   "source": [
    "print(df.info())"
   ]
  },
  {
   "cell_type": "code",
   "execution_count": 8,
   "id": "94ae3016-ec07-46a3-9757-eafeb0bfe40d",
   "metadata": {},
   "outputs": [
    {
     "name": "stdout",
     "output_type": "stream",
     "text": [
      "                   Formatted Date                   Summary Precip Type  Temperatur  Apparent Temperature (C)  Humidity  Wind Speed (km/h)  Wind Bearing (degrees)  Visibility (km)  Loud Cover  Pressure (millibars)                               Daily Summary\n",
      "0   2006-04-01 00:00:00.000 +0200             Partly Cloudy        rain    9.472222                  7.388889      0.89            14.1197                     251          15.8263           0               1015.13           Partly cloudy throughout the day.\n",
      "1   2006-04-01 01:00:00.000 +0200             Partly Cloudy        rain         NaN                  7.227778      0.86            14.2646                     259          15.8263           0               1015.63           Partly cloudy throughout the day.\n",
      "2   2006-04-01 02:00:00.000 +0200             Mostly Cloudy         NaN    9.377778                  9.377778      0.89             3.9284                     204          14.9569           0               1015.94           Partly cloudy throughout the day.\n",
      "3   2006-04-01 03:00:00.000 +0200             Partly Cloudy        rain    8.288889                       NaN      0.83            14.1036                     269          15.8263           0               1016.41           Partly cloudy throughout the day.\n",
      "4   2006-04-01 04:00:00.000 +0200             Mostly Cloudy        rain    8.755556                  6.977778      0.83            11.0446                     259          15.8263           0               1016.51           Partly cloudy throughout the day.\n",
      "5   2006-04-01 05:00:00.000 +0200             Partly Cloudy        rain    9.222222                  7.111111      0.85            13.9587                     258          14.9569           0               1016.66           Partly cloudy throughout the day.\n",
      "6   2006-04-01 06:00:00.000 +0200             Partly Cloudy        rain    7.733333                  5.522222      0.95            12.3648                     259           9.9820           0               1016.72           Partly cloudy throughout the day.\n",
      "7   2006-04-01 07:00:00.000 +0200             Partly Cloudy        rain    8.772222                  6.527778      0.89            14.1519                     260           9.9820           0               1016.84           Partly cloudy throughout the day.\n",
      "8   2006-04-01 08:00:00.000 +0200             Partly Cloudy         NaN   10.822222                 10.822222      0.82            11.3183                     259           9.9820           0               1017.37           Partly cloudy throughout the day.\n",
      "9   2006-04-01 09:00:00.000 +0200             Partly Cloudy        rain   13.772222                 13.772222      0.72            12.5258                     279           9.9820           0               1017.22           Partly cloudy throughout the day.\n",
      "10  2006-04-01 10:00:00.000 +0200             Partly Cloudy        rain   16.016667                 16.016667      0.67            17.5651                     290          11.2056           0               1017.42           Partly cloudy throughout the day.\n",
      "11  2006-04-01 11:00:00.000 +0200             Partly Cloudy        rain   17.144444                 17.144444      0.54            19.7869                     316          11.4471           0               1017.74           Partly cloudy throughout the day.\n",
      "12  2006-04-01 12:00:00.000 +0200             Partly Cloudy        rain  178.000000                 17.800000      0.55            21.9443                     281          11.2700           0               1017.59           Partly cloudy throughout the day.\n",
      "13  2006-04-01 13:00:00.000 +0200             Partly Cloudy        rain   17.333333                 17.333333      0.51            20.6885                     289          11.2700           0               1017.48           Partly cloudy throughout the day.\n",
      "14  2006-04-01 14:00:00.000 +0200             Partly Cloudy         NaN   18.877778                 18.877778      0.47            15.3755                     262          11.4471           0               1017.17           Partly cloudy throughout the day.\n",
      "15  2006-04-01 15:00:00.000 +0200             Partly Cloudy        rain   18.911111                 18.911111      0.46            10.4006                     288          11.2700           0               1016.47           Partly cloudy throughout the day.\n",
      "16  2006-04-01 16:00:00.000 +0200             Partly Cloudy        rain   15.388889                 15.388889      0.60            14.4095                     251          11.2700           0               1016.15           Partly cloudy throughout the day.\n",
      "17  2006-04-01 17:00:00.000 +0200             Mostly Cloudy        rain  155.000000                 15.550000      0.63            11.1573                     230          11.4471           0               1016.17           Partly cloudy throughout the day.\n",
      "18  2006-04-01 18:00:00.000 +0200             Mostly Cloudy        rain   14.255556                 14.255556      0.69             8.5169                     163          11.2056           0               1015.82           Partly cloudy throughout the day.\n",
      "19  2006-04-01 19:00:00.000 +0200             Mostly Cloudy         NaN   13.144444                       NaN      0.70             7.6314                     139          11.2056           0               1015.83           Partly cloudy throughout the day.\n",
      "20  2006-04-01 20:00:00.000 +0200             Mostly Cloudy        rain   11.550000                 11.550000      0.77             7.3899                     147          11.0285           0               1015.85           Partly cloudy throughout the day.\n",
      "21  2006-04-01 21:00:00.000 +0200             Mostly Cloudy        rain   11.183333                 11.183333      0.76             4.9266                     160           9.9820           0               1015.77           Partly cloudy throughout the day.\n",
      "22  2006-04-01 22:00:00.000 +0200             Partly Cloudy        rain   10.116667                 10.116667      0.79             6.6493                     163          15.8263           0               1015.40           Partly cloudy throughout the day.\n",
      "23  2006-04-01 23:00:00.000 +0200             Mostly Cloudy        rain  102.000000                 10.200000      0.77             3.9284                     152          14.9569           0               1015.51           Partly cloudy throughout the day.\n",
      "24  2006-04-10 00:00:00.000 +0200             Partly Cloudy        rain   10.422222                 10.422222      0.62            16.9855                     150          15.8263           0               1014.40           Mostly cloudy throughout the day.\n",
      "25  2006-04-10 01:00:00.000 +0200                       NaN        rain    9.911111                  7.566667      0.66            17.2109                     149          15.8263           0               1014.20           Mostly cloudy throughout the day.\n",
      "26  2006-04-10 02:00:00.000 +0200             Mostly Cloudy        rain   11.183333                 11.183333      0.80            10.8192                     163          14.9569           0               1008.71           Mostly cloudy throughout the day.\n",
      "27  2006-04-10 03:00:00.000 +0200             Partly Cloudy        rain    7.155556                  5.044444      0.79            11.0768                     180          15.8263           0               1014.47           Mostly cloudy throughout the day.\n",
      "28  2006-04-10 04:00:00.000 +0200             Partly Cloudy         NaN    6.111111                  4.816667      0.82             6.6493                     161          15.8263           0               1014.45           Mostly cloudy throughout the day.\n",
      "29  2006-04-10 05:00:00.000 +0200             Partly Cloudy        rain         NaN                  4.272222      0.83            13.0088                     135          14.9569           0               1014.49           Mostly cloudy throughout the day.\n",
      "30  2006-04-10 06:00:00.000 +0200             Mostly Cloudy        rain    7.261111                  5.155556      0.85            11.1734                     141           6.1985           0               1014.52           Mostly cloudy throughout the day.\n",
      "31  2006-04-10 07:00:00.000 +0200             Mostly Cloudy        rain    7.800000                  5.527778      0.83            12.8156                     150           8.0500           0               1014.16           Mostly cloudy throughout the day.\n",
      "32  2006-04-10 08:00:00.000 +0200             Mostly Cloudy        rain    9.872222                  7.933333      0.78            13.7494                     160           9.9820           0               1014.24           Mostly cloudy throughout the day.\n",
      "33  2006-04-10 09:00:00.000 +0200             Mostly Cloudy        rain   12.222222                 12.222222      0.72            15.6331                     150           9.9820           0               1014.25           Mostly cloudy throughout the day.\n",
      "34  2006-04-10 10:00:00.000 +0200             Mostly Cloudy        rain   15.094444                 15.094444      0.61            17.5490                     151           9.9820           0               1013.96           Mostly cloudy throughout the day.\n",
      "35  2006-04-10 11:00:00.000 +0200             Mostly Cloudy        rain   17.355556                 17.355556      0.52            22.7815                     169           9.9820           0               1013.85           Mostly cloudy throughout the day.\n",
      "36  2006-04-10 12:00:00.000 +0200             Mostly Cloudy        rain   19.005556                 19.005556      0.46            23.8924                     169           9.9820           0               1013.04           Mostly cloudy throughout the day.\n",
      "37  2006-04-10 13:00:00.000 +0200             Mostly Cloudy        rain   20.044444                 20.044444      0.40            28.3682                     170           9.9820           0               1012.22           Mostly cloudy throughout the day.\n",
      "38  2006-04-10 14:00:00.000 +0200             Mostly Cloudy        rain   21.050000                 21.050000      0.40            26.9031                     187          10.3523           0                   NaN                                         NaN\n",
      "39  2006-04-10 15:00:00.000 +0200             Mostly Cloudy        rain   21.183333                 21.183333      0.37            25.6956                     179           9.9820           0               1010.52           Mostly cloudy throughout the day.\n",
      "40  2006-04-10 16:00:00.000 +0200             Mostly Cloudy        rain   20.116667                 20.116667      0.40            25.3092                     162           9.9820           0               1009.83                                         NaN\n",
      "41  2006-04-10 17:00:00.000 +0200             Mostly Cloudy        rain   20.216667                 20.216667      0.36            18.1125                     161          10.3523           0               1009.26           Mostly cloudy throughout the day.\n",
      "42  2006-04-10 18:00:00.000 +0200             Mostly Cloudy        rain   20.000000                 20.000000      0.43            23.4255                     160           9.9820           0               1008.76           Mostly cloudy throughout the day.\n",
      "43  2006-04-10 19:00:00.000 +0200             Mostly Cloudy        rain   17.800000                 17.800000      0.50            20.0445                     150          11.2056           0               1008.36           Mostly cloudy throughout the day.\n",
      "44  2006-04-10 20:00:00.000 +0200             Mostly Cloudy        rain   16.061111                 16.061111      0.53            21.3969                     149           9.9820           0               1008.11                                         NaN\n",
      "45  2006-04-10 21:00:00.000 +0200             Mostly Cloudy        rain   15.022222                 15.022222      0.55            21.3808                     159           9.9820           0               1008.15           Mostly cloudy throughout the day.\n",
      "46  2006-04-10 22:00:00.000 +0200                  Overcast        rain   14.422222                 14.422222      0.58            20.0123                     159          15.8263           0               1007.85           Mostly cloudy throughout the day.\n",
      "47  2006-04-10 23:00:00.000 +0200                  Overcast        rain   14.255556                 14.255556      0.59            16.5025                     168          14.9569           0               1007.89           Mostly cloudy throughout the day.\n",
      "48  2006-04-11 00:00:00.000 +0200                  Overcast        rain   13.772222                 13.772222      0.60            17.0982                     160          15.8263           0               1007.36                       Foggy in the evening.\n",
      "49  2006-04-11 01:00:00.000 +0200                  Overcast        rain   13.283333                 13.283333      0.63            14.3612                     160          15.8263           0               1007.26                       Foggy in the evening.\n",
      "50  2006-04-11 02:00:00.000 +0200                  Overcast        rain    8.633333                  5.466667      0.87            22.0409                      32           6.6976           0               1005.10                       Foggy in the evening.\n",
      "51  2006-04-11 03:00:00.000 +0200                  Overcast        rain   11.250000                 11.250000      0.83            11.3344                     152          15.8263           0               1007.01                       Foggy in the evening.\n",
      "52  2006-04-11 04:00:00.000 +0200                  Overcast        rain   11.183333                 11.183333      0.89            11.2056                     180           9.9015           0               1006.73                       Foggy in the evening.\n",
      "53  2006-04-11 05:00:00.000 +0200                  Overcast        rain   10.694444                 10.694444      0.95            10.4006                     161           6.6976           0               1006.59                       Foggy in the evening.\n",
      "54  2006-04-11 06:00:00.000 +0200             Mostly Cloudy        rain   11.111111                       NaN      0.93            12.0106                     140           5.9731           0               1006.34                       Foggy in the evening.\n",
      "55  2006-04-11 07:00:00.000 +0200             Mostly Cloudy        rain   11.111111                 11.111111      0.93             9.2092                     103          10.8031           0               1006.09                       Foggy in the evening.\n",
      "56  2006-04-11 08:00:00.000 +0200             Partly Cloudy        rain   12.166667                 12.166667      0.82             9.9015                     113          10.6743           0               1005.97                       Foggy in the evening.\n",
      "57  2006-04-11 09:00:00.000 +0200             Partly Cloudy        rain   12.755556                 12.755556      0.79            13.8299                     129          10.8192           0               1005.63                       Foggy in the evening.\n",
      "58  2006-04-11 10:00:00.000 +0200             Partly Cloudy        rain   13.838889                 13.838889      0.84             9.0965                     159          10.8192           0               1005.83                       Foggy in the evening.\n",
      "59  2006-04-11 11:00:00.000 +0200             Partly Cloudy        rain   16.183333                 16.183333      0.73             0.6440                     207          10.7548           0               1005.97                       Foggy in the evening.\n",
      "60  2006-04-11 12:00:00.000 +0200             Mostly Cloudy        rain   17.516667                 17.516667      0.67             0.6762                     153          10.8997           0               1005.64                       Foggy in the evening.\n",
      "61  2006-04-11 13:00:00.000 +0200             Mostly Cloudy        rain   17.383333                 17.383333      0.67             3.8640                       4          10.8514           0               1005.20                       Foggy in the evening.\n",
      "62  2006-04-11 14:00:00.000 +0200             Mostly Cloudy        rain   17.361111                 17.361111      0.71             7.8246                     341          11.0768           0               1005.10                                         NaN\n",
      "63  2006-04-11 15:00:00.000 +0200             Mostly Cloudy        rain   17.205556                 17.205556      0.74            15.5848                      15          10.8514           0               1004.65                       Foggy in the evening.\n",
      "64  2006-04-11 16:00:00.000 +0200             Mostly Cloudy        rain   15.633333                 15.633333      0.81            23.6992                     348          10.8836           0               1004.04                       Foggy in the evening.\n",
      "65  2006-04-11 17:00:00.000 +0200                  Overcast        rain         NaN                 13.577778      0.90            20.9622                     321           7.6153           0               1004.08                       Foggy in the evening.\n",
      "66  2006-04-11 18:00:00.000 +0200                     Foggy        rain   10.911111                 10.911111      0.86                NaN                     311           2.6565           0               1004.61                                         NaN\n",
      "67  2006-04-11 19:00:00.000 +0200                     Foggy        rain    8.800000                  5.294444      0.99            26.5006                     339           2.6565           0               1004.99                       Foggy in the evening.\n",
      "68  2006-04-11 20:00:00.000 +0200                  Overcast        rain    8.961111                  5.777778      0.93            23.2162                     340           3.8157           0               1004.85                       Foggy in the evening.\n",
      "69  2006-04-11 21:00:00.000 +0200                  Overcast        rain    8.200000                  4.605556      0.96            25.4219                     330           4.4919           0                   NaN                       Foggy in the evening.\n",
      "70  2006-04-11 22:00:00.000 +0200                  Overcast        rain    7.688889                  3.722222      0.96            28.1267                     339           4.4436           0               1005.14                       Foggy in the evening.\n",
      "71  2006-04-11 23:00:00.000 +0200                  Overcast        rain    7.766667                  4.650000      0.96            19.2878                     339           5.6833           0               1005.05                       Foggy in the evening.\n",
      "72  2006-04-12 00:00:00.000 +0200                     Foggy        rain    8.200000                  5.072222      0.96            20.4470                     341           3.1073           0               1004.80  Foggy overnight and breezy in the morning.\n",
      "73  2006-04-12 01:00:00.000 +0200                     Foggy        rain    8.177778                  4.372222      0.93            27.8691                      19           3.2039           0               1004.89                                         NaN\n",
      "74  2006-04-12 02:00:00.000 +0200             Mostly Cloudy        rain    7.311111                  6.183333      0.82             6.7459                     277          14.0553           0               1007.00  Foggy overnight and breezy in the morning.\n",
      "75  2006-04-12 03:00:00.000 +0200                  Overcast        rain    7.644444                  5.038889      0.93            14.9086                       9           6.1180           0               1004.30  Foggy overnight and breezy in the morning.\n",
      "76  2006-04-12 04:00:00.000 +0200                       NaN        rain    6.622222                  2.616667      0.93            25.0355                       0           6.1180           0               1003.68  Foggy overnight and breezy in the morning.\n",
      "77  2006-04-12 05:00:00.000 +0200                  Overcast        rain    6.683333                  3.222222      0.93            19.8352                     350           6.1663           0               1003.86  Foggy overnight and breezy in the morning.\n",
      "78  2006-04-12 06:00:00.000 +0200                  Overcast        rain    6.088889                  1.650000      0.93            28.0945                     349           7.9695           0               1003.57  Foggy overnight and breezy in the morning.\n",
      "79  2006-04-12 07:00:00.000 +0200                  Overcast        rain    6.066667                  1.633333      0.93            27.9818                     348           6.3434           0               1003.96  Foggy overnight and breezy in the morning.\n",
      "80  2006-04-12 08:00:00.000 +0200  Breezy and Mostly Cloudy        rain    6.144444                  1.494444      0.93            30.8637                     349          10.5455           0               1004.10                                         NaN\n",
      "81  2006-04-12 09:00:00.000 +0200  Breezy and Mostly Cloudy        rain    7.133333                  2.688889      0.80            32.1678                     349          11.2056           0               1004.26  Foggy overnight and breezy in the morning.\n",
      "82  2006-04-12 10:00:00.000 +0200                  Overcast        rain    7.205556                  3.233333      0.86            26.5328                     339          11.2700           0               1004.18  Foggy overnight and breezy in the morning.\n",
      "83  2006-04-12 11:00:00.000 +0200             Mostly Cloudy        rain    7.566667                  3.544444      0.84            28.3360                     339          10.5455           0               1004.23  Foggy overnight and breezy in the morning.\n",
      "84  2006-04-12 12:00:00.000 +0200                       NaN        rain    8.900000                  5.161111      0.77            29.8333                     348          11.2700           0               1004.47  Foggy overnight and breezy in the morning.\n",
      "85  2006-04-12 13:00:00.000 +0200             Mostly Cloudy        rain    9.961111                  6.644444      0.71            28.4809                     339          11.2700           0               1004.52  Foggy overnight and breezy in the morning.\n",
      "86  2006-04-12 14:00:00.000 +0200             Mostly Cloudy        rain    9.888889                  6.550000      0.71            28.5131                     338          11.0768           0               1004.29  Foggy overnight and breezy in the morning.\n",
      "87  2006-04-12 15:00:00.000 +0200             Mostly Cloudy        rain   11.066667                 11.066667      0.71            25.6956                     320          11.2700           0               1003.93  Foggy overnight and breezy in the morning.\n",
      "88  2006-04-12 16:00:00.000 +0200                  Overcast        rain   10.116667                 10.116667      0.76            25.3414                     311          11.2700           0               1004.00  Foggy overnight and breezy in the morning.\n",
      "89  2006-04-12 17:00:00.000 +0200                  Overcast        rain   11.038889                 11.038889      0.66            21.4130                     311           9.9820           0               1004.30  Foggy overnight and breezy in the morning.\n",
      "90  2006-04-12 18:00:00.000 +0200                       NaN        rain   10.650000                 10.650000      0.70            17.8549                     310          14.9086           0               1004.00  Foggy overnight and breezy in the morning.\n",
      "91  2006-04-12 19:00:00.000 +0200                  Overcast        rain   10.050000                 10.050000      0.70            15.1984                     328           9.9820           0               1004.39  Foggy overnight and breezy in the morning.\n",
      "92  2006-04-12 20:00:00.000 +0200             Mostly Cloudy        rain    9.900000                  7.716667      0.66            15.7297                     348          11.0285           0               1005.48  Foggy overnight and breezy in the morning.\n",
      "93  2006-04-12 21:00:00.000 +0200                  Overcast        rain    8.794444                  6.816667      0.71            12.3648                      20           9.9820           0               1005.89  Foggy overnight and breezy in the morning.\n",
      "94  2006-04-12 22:00:00.000 +0200             Mostly Cloudy        rain    7.827778                  5.405556      0.72            13.8943                      28          15.8263           0               1006.37                                         NaN\n",
      "95  2006-04-12 23:00:00.000 +0200                  Overcast        rain    7.855556                  6.122222      0.72             9.8049                      11          15.0052           0               1006.56  Foggy overnight and breezy in the morning.\n",
      "96  2006-04-13 00:00:00.000 +0200                       NaN        rain    7.316667                  6.211111      0.75             6.6654                     326          15.8746           0               1007.07                Overcast throughout the day.\n",
      "97  2006-04-13 01:00:00.000 +0200                  Overcast        rain    7.244444                  6.005556      0.75             7.1162                     309          15.8746           0               1007.37                Overcast throughout the day.\n",
      "98  2006-04-13 02:00:00.000 +0200             Partly Cloudy        rain    5.438889                  5.438889      0.88             3.7191                     193           9.9820           0               1012.23                Overcast throughout the day.\n"
     ]
    }
   ],
   "source": [
    "print(df.to_string())"
   ]
  },
  {
   "cell_type": "code",
   "execution_count": 9,
   "id": "2af4782a-c4ac-4781-a3d4-2f436d4d6992",
   "metadata": {},
   "outputs": [
    {
     "data": {
      "text/html": [
       "<div>\n",
       "<style scoped>\n",
       "    .dataframe tbody tr th:only-of-type {\n",
       "        vertical-align: middle;\n",
       "    }\n",
       "\n",
       "    .dataframe tbody tr th {\n",
       "        vertical-align: top;\n",
       "    }\n",
       "\n",
       "    .dataframe thead th {\n",
       "        text-align: right;\n",
       "    }\n",
       "</style>\n",
       "<table border=\"1\" class=\"dataframe\">\n",
       "  <thead>\n",
       "    <tr style=\"text-align: right;\">\n",
       "      <th></th>\n",
       "      <th>Temperatur</th>\n",
       "      <th>Apparent Temperature (C)</th>\n",
       "      <th>Humidity</th>\n",
       "      <th>Wind Speed (km/h)</th>\n",
       "      <th>Wind Bearing (degrees)</th>\n",
       "      <th>Visibility (km)</th>\n",
       "      <th>Loud Cover</th>\n",
       "      <th>Pressure (millibars)</th>\n",
       "    </tr>\n",
       "  </thead>\n",
       "  <tbody>\n",
       "    <tr>\n",
       "      <th>count</th>\n",
       "      <td>96.000000</td>\n",
       "      <td>96.000000</td>\n",
       "      <td>99.000000</td>\n",
       "      <td>98.000000</td>\n",
       "      <td>99.000000</td>\n",
       "      <td>99.000000</td>\n",
       "      <td>99.0</td>\n",
       "      <td>97.000000</td>\n",
       "    </tr>\n",
       "    <tr>\n",
       "      <th>mean</th>\n",
       "      <td>15.864699</td>\n",
       "      <td>10.582465</td>\n",
       "      <td>0.742525</td>\n",
       "      <td>16.524350</td>\n",
       "      <td>215.202020</td>\n",
       "      <td>10.866036</td>\n",
       "      <td>0.0</td>\n",
       "      <td>1009.602268</td>\n",
       "    </tr>\n",
       "    <tr>\n",
       "      <th>std</th>\n",
       "      <td>24.352763</td>\n",
       "      <td>5.453172</td>\n",
       "      <td>0.159542</td>\n",
       "      <td>7.675430</td>\n",
       "      <td>99.973362</td>\n",
       "      <td>3.449905</td>\n",
       "      <td>0.0</td>\n",
       "      <td>5.031420</td>\n",
       "    </tr>\n",
       "    <tr>\n",
       "      <th>min</th>\n",
       "      <td>5.438889</td>\n",
       "      <td>1.494444</td>\n",
       "      <td>0.360000</td>\n",
       "      <td>0.644000</td>\n",
       "      <td>0.000000</td>\n",
       "      <td>2.656500</td>\n",
       "      <td>0.0</td>\n",
       "      <td>1003.570000</td>\n",
       "    </tr>\n",
       "    <tr>\n",
       "      <th>25%</th>\n",
       "      <td>8.200000</td>\n",
       "      <td>5.526389</td>\n",
       "      <td>0.660000</td>\n",
       "      <td>11.096925</td>\n",
       "      <td>152.000000</td>\n",
       "      <td>9.982000</td>\n",
       "      <td>0.0</td>\n",
       "      <td>1004.990000</td>\n",
       "    </tr>\n",
       "    <tr>\n",
       "      <th>50%</th>\n",
       "      <td>10.866667</td>\n",
       "      <td>10.672222</td>\n",
       "      <td>0.770000</td>\n",
       "      <td>15.480150</td>\n",
       "      <td>187.000000</td>\n",
       "      <td>10.851400</td>\n",
       "      <td>0.0</td>\n",
       "      <td>1007.370000</td>\n",
       "    </tr>\n",
       "    <tr>\n",
       "      <th>75%</th>\n",
       "      <td>15.450000</td>\n",
       "      <td>15.168056</td>\n",
       "      <td>0.860000</td>\n",
       "      <td>22.596350</td>\n",
       "      <td>311.000000</td>\n",
       "      <td>12.751200</td>\n",
       "      <td>0.0</td>\n",
       "      <td>1014.520000</td>\n",
       "    </tr>\n",
       "    <tr>\n",
       "      <th>max</th>\n",
       "      <td>178.000000</td>\n",
       "      <td>21.183333</td>\n",
       "      <td>0.990000</td>\n",
       "      <td>32.167800</td>\n",
       "      <td>350.000000</td>\n",
       "      <td>15.874600</td>\n",
       "      <td>0.0</td>\n",
       "      <td>1017.740000</td>\n",
       "    </tr>\n",
       "  </tbody>\n",
       "</table>\n",
       "</div>"
      ],
      "text/plain": [
       "       Temperatur  Apparent Temperature (C)   Humidity  Wind Speed (km/h)  \\\n",
       "count   96.000000                 96.000000  99.000000          98.000000   \n",
       "mean    15.864699                 10.582465   0.742525          16.524350   \n",
       "std     24.352763                  5.453172   0.159542           7.675430   \n",
       "min      5.438889                  1.494444   0.360000           0.644000   \n",
       "25%      8.200000                  5.526389   0.660000          11.096925   \n",
       "50%     10.866667                 10.672222   0.770000          15.480150   \n",
       "75%     15.450000                 15.168056   0.860000          22.596350   \n",
       "max    178.000000                 21.183333   0.990000          32.167800   \n",
       "\n",
       "       Wind Bearing (degrees)  Visibility (km)  Loud Cover  \\\n",
       "count               99.000000        99.000000        99.0   \n",
       "mean               215.202020        10.866036         0.0   \n",
       "std                 99.973362         3.449905         0.0   \n",
       "min                  0.000000         2.656500         0.0   \n",
       "25%                152.000000         9.982000         0.0   \n",
       "50%                187.000000        10.851400         0.0   \n",
       "75%                311.000000        12.751200         0.0   \n",
       "max                350.000000        15.874600         0.0   \n",
       "\n",
       "       Pressure (millibars)  \n",
       "count             97.000000  \n",
       "mean            1009.602268  \n",
       "std                5.031420  \n",
       "min             1003.570000  \n",
       "25%             1004.990000  \n",
       "50%             1007.370000  \n",
       "75%             1014.520000  \n",
       "max             1017.740000  "
      ]
     },
     "execution_count": 9,
     "metadata": {},
     "output_type": "execute_result"
    }
   ],
   "source": [
    "df.describe()"
   ]
  },
  {
   "cell_type": "code",
   "execution_count": 11,
   "id": "7515c9af-4f41-4982-8bd4-469cecf3208c",
   "metadata": {},
   "outputs": [
    {
     "name": "stdout",
     "output_type": "stream",
     "text": [
      "(99, 12)\n"
     ]
    }
   ],
   "source": [
    "print(df.shape)"
   ]
  },
  {
   "cell_type": "code",
   "execution_count": 12,
   "id": "41a0fdaa-134f-4278-a9fe-14466a613c59",
   "metadata": {},
   "outputs": [
    {
     "name": "stdout",
     "output_type": "stream",
     "text": [
      "    Formatted Date  Summary  Precip Type  Temperatur  \\\n",
      "0            False    False        False       False   \n",
      "1            False    False        False        True   \n",
      "2            False    False         True       False   \n",
      "3            False    False        False       False   \n",
      "4            False    False        False       False   \n",
      "..             ...      ...          ...         ...   \n",
      "94           False    False        False       False   \n",
      "95           False    False        False       False   \n",
      "96           False     True        False       False   \n",
      "97           False    False        False       False   \n",
      "98           False    False        False       False   \n",
      "\n",
      "    Apparent Temperature (C)  Humidity  Wind Speed (km/h)  \\\n",
      "0                      False     False              False   \n",
      "1                      False     False              False   \n",
      "2                      False     False              False   \n",
      "3                       True     False              False   \n",
      "4                      False     False              False   \n",
      "..                       ...       ...                ...   \n",
      "94                     False     False              False   \n",
      "95                     False     False              False   \n",
      "96                     False     False              False   \n",
      "97                     False     False              False   \n",
      "98                     False     False              False   \n",
      "\n",
      "    Wind Bearing (degrees)  Visibility (km)  Loud Cover  Pressure (millibars)  \\\n",
      "0                    False            False       False                 False   \n",
      "1                    False            False       False                 False   \n",
      "2                    False            False       False                 False   \n",
      "3                    False            False       False                 False   \n",
      "4                    False            False       False                 False   \n",
      "..                     ...              ...         ...                   ...   \n",
      "94                   False            False       False                 False   \n",
      "95                   False            False       False                 False   \n",
      "96                   False            False       False                 False   \n",
      "97                   False            False       False                 False   \n",
      "98                   False            False       False                 False   \n",
      "\n",
      "    Daily Summary  \n",
      "0           False  \n",
      "1           False  \n",
      "2           False  \n",
      "3           False  \n",
      "4           False  \n",
      "..            ...  \n",
      "94           True  \n",
      "95          False  \n",
      "96          False  \n",
      "97          False  \n",
      "98          False  \n",
      "\n",
      "[99 rows x 12 columns]\n"
     ]
    }
   ],
   "source": [
    "print(df.isnull())"
   ]
  },
  {
   "cell_type": "code",
   "execution_count": 14,
   "id": "65a2ff18-96dc-433e-91b8-def51772a4c9",
   "metadata": {},
   "outputs": [
    {
     "name": "stdout",
     "output_type": "stream",
     "text": [
      "Formatted Date              0\n",
      "Summary                     5\n",
      "Precip Type                 5\n",
      "Temperatur                  3\n",
      "Apparent Temperature (C)    3\n",
      "Humidity                    0\n",
      "Wind Speed (km/h)           1\n",
      "Wind Bearing (degrees)      0\n",
      "Visibility (km)             0\n",
      "Loud Cover                  0\n",
      "Pressure (millibars)        2\n",
      "Daily Summary               8\n",
      "dtype: int64\n"
     ]
    }
   ],
   "source": [
    "print(df.isnull().sum())"
   ]
  },
  {
   "cell_type": "code",
   "execution_count": 15,
   "id": "1e742fcf-003a-4c4a-8d77-6904cd4ba213",
   "metadata": {},
   "outputs": [],
   "source": [
    "df.dropna(subset=['Summary'],inplace=True)"
   ]
  },
  {
   "cell_type": "code",
   "execution_count": 21,
   "id": "1904378a-cddf-41ac-b3ab-58387143b1f5",
   "metadata": {},
   "outputs": [],
   "source": [
    "df.dropna(subset=['Precip Type'],inplace=True)"
   ]
  },
  {
   "cell_type": "code",
   "execution_count": 22,
   "id": "f7adcd97-84a3-4123-92e1-f9741ae5b6cd",
   "metadata": {},
   "outputs": [],
   "source": [
    "df.dropna(subset=['Pressure (millibars)'],inplace=True)"
   ]
  },
  {
   "cell_type": "code",
   "execution_count": 23,
   "id": "73a54b50-364b-44aa-91ce-45fa8b421c9c",
   "metadata": {},
   "outputs": [],
   "source": [
    "df.dropna(subset=['Apparent Temperature (C)'],inplace=True)"
   ]
  },
  {
   "cell_type": "code",
   "execution_count": 24,
   "id": "b295827b-c573-4fb3-a88e-17bc66edc5af",
   "metadata": {},
   "outputs": [],
   "source": [
    "df.dropna(subset=['Wind Speed (km/h)'],inplace=True)"
   ]
  },
  {
   "cell_type": "code",
   "execution_count": 25,
   "id": "91ce2e7b-e43b-4855-b5ac-303fcf40bca2",
   "metadata": {},
   "outputs": [],
   "source": [
    "df.dropna(subset=['Daily Summary'],inplace=True)"
   ]
  },
  {
   "cell_type": "code",
   "execution_count": 26,
   "id": "ac11dc46-7f3e-4fc1-8dec-3a89031363b2",
   "metadata": {},
   "outputs": [
    {
     "name": "stdout",
     "output_type": "stream",
     "text": [
      "Formatted Date              0\n",
      "Summary                     0\n",
      "Precip Type                 0\n",
      "Temperatur                  3\n",
      "Apparent Temperature (C)    0\n",
      "Humidity                    0\n",
      "Wind Speed (km/h)           0\n",
      "Wind Bearing (degrees)      0\n",
      "Visibility (km)             0\n",
      "Loud Cover                  0\n",
      "Pressure (millibars)        0\n",
      "Daily Summary               0\n",
      "dtype: int64\n"
     ]
    }
   ],
   "source": [
    "print(df.isnull().sum())"
   ]
  },
  {
   "cell_type": "code",
   "execution_count": 27,
   "id": "5f3912f4-c7fe-488e-ba0a-abc65766a400",
   "metadata": {},
   "outputs": [],
   "source": [
    "mode = s.mode(df.Temperatur )"
   ]
  },
  {
   "cell_type": "code",
   "execution_count": 28,
   "id": "b9ecb3fc-c859-441a-8f90-75ae6de3de78",
   "metadata": {},
   "outputs": [
    {
     "name": "stdout",
     "output_type": "stream",
     "text": [
      "11.18333333\n"
     ]
    }
   ],
   "source": [
    "print(mode)"
   ]
  },
  {
   "cell_type": "code",
   "execution_count": 29,
   "id": "f00aa397-ea45-43c2-8bb2-f0895fbbdccb",
   "metadata": {},
   "outputs": [],
   "source": [
    "df.fillna(value = {'Temperatur':mode},inplace=True)"
   ]
  },
  {
   "cell_type": "code",
   "execution_count": 30,
   "id": "f08761a7-e20c-4931-8aca-f7c4b83935de",
   "metadata": {},
   "outputs": [
    {
     "name": "stdout",
     "output_type": "stream",
     "text": [
      "Formatted Date              0\n",
      "Summary                     0\n",
      "Precip Type                 0\n",
      "Temperatur                  0\n",
      "Apparent Temperature (C)    0\n",
      "Humidity                    0\n",
      "Wind Speed (km/h)           0\n",
      "Wind Bearing (degrees)      0\n",
      "Visibility (km)             0\n",
      "Loud Cover                  0\n",
      "Pressure (millibars)        0\n",
      "Daily Summary               0\n",
      "dtype: int64\n"
     ]
    }
   ],
   "source": [
    "print(df.isnull().sum())"
   ]
  },
  {
   "cell_type": "code",
   "execution_count": 31,
   "id": "d2b09f61-04b4-439c-9437-935f2555904d",
   "metadata": {},
   "outputs": [
    {
     "data": {
      "text/plain": [
       "{'whiskers': [<matplotlib.lines.Line2D at 0x29b2cab9f40>,\n",
       "  <matplotlib.lines.Line2D at 0x29b2cb3efc0>],\n",
       " 'caps': [<matplotlib.lines.Line2D at 0x29b2cb3c0e0>,\n",
       "  <matplotlib.lines.Line2D at 0x29b2cb3f740>],\n",
       " 'boxes': [<matplotlib.lines.Line2D at 0x29b2ca5e480>],\n",
       " 'medians': [<matplotlib.lines.Line2D at 0x29b2cb3f9b0>],\n",
       " 'fliers': [<matplotlib.lines.Line2D at 0x29b2cb3fe60>],\n",
       " 'means': []}"
      ]
     },
     "execution_count": 31,
     "metadata": {},
     "output_type": "execute_result"
    },
    {
     "data": {
      "image/png": "[encoded data removed]",
      "text/plain": [
       "<Figure size 640x480 with 1 Axes>"
      ]
     },
     "metadata": {},
     "output_type": "display_data"
    }
   ],
   "source": [
    "mb.boxplot(df['Temperatur'])"
   ]
  },
  {
   "cell_type": "code",
   "execution_count": 32,
   "id": "2dfb1266-1712-4926-a5c4-1ad287da0fc4",
   "metadata": {},
   "outputs": [],
   "source": [
    "Q1 = df['Temperatur'].quantile(.25)\n",
    "Q3 = df['Temperatur'].quantile(.75)\n",
    "IQR = Q3 - Q1\n",
    "Upper = (Q3 + 1.5 * IQR)\n",
    "Lower = (Q1 - 1.5 * IQR)"
   ]
  },
  {
   "cell_type": "code",
   "execution_count": 33,
   "id": "a2c81112-5888-4fdf-89f3-586061ddf668",
   "metadata": {},
   "outputs": [
    {
     "name": "stdout",
     "output_type": "stream",
     "text": [
      "(78, 12)\n"
     ]
    }
   ],
   "source": [
    "print(df.shape)"
   ]
  },
  {
   "cell_type": "code",
   "execution_count": 34,
   "id": "6847a27e-4e93-4400-94cf-cdde59c24e53",
   "metadata": {},
   "outputs": [],
   "source": [
    "DF1 = df[(df.Temperatur < Upper) & (df.Temperatur > Lower)]"
   ]
  },
  {
   "cell_type": "code",
   "execution_count": 36,
   "id": "69cf513f-9904-49ad-bd44-f97990bd6f3c",
   "metadata": {},
   "outputs": [
    {
     "name": "stdout",
     "output_type": "stream",
     "text": [
      "                   Formatted Date        Summary Precip Type  Temperatur  \\\n",
      "0   2006-04-01 00:00:00.000 +0200  Partly Cloudy        rain    9.472222   \n",
      "1   2006-04-01 01:00:00.000 +0200  Partly Cloudy        rain   11.183333   \n",
      "4   2006-04-01 04:00:00.000 +0200  Mostly Cloudy        rain    8.755556   \n",
      "5   2006-04-01 05:00:00.000 +0200  Partly Cloudy        rain    9.222222   \n",
      "6   2006-04-01 06:00:00.000 +0200  Partly Cloudy        rain    7.733333   \n",
      "..                            ...            ...         ...         ...   \n",
      "92  2006-04-12 20:00:00.000 +0200  Mostly Cloudy        rain    9.900000   \n",
      "93  2006-04-12 21:00:00.000 +0200       Overcast        rain    8.794444   \n",
      "95  2006-04-12 23:00:00.000 +0200       Overcast        rain    7.855556   \n",
      "97  2006-04-13 01:00:00.000 +0200       Overcast        rain    7.244444   \n",
      "98  2006-04-13 02:00:00.000 +0200  Partly Cloudy        rain    5.438889   \n",
      "\n",
      "    Apparent Temperature (C)  Humidity  Wind Speed (km/h)  \\\n",
      "0                   7.388889      0.89            14.1197   \n",
      "1                   7.227778      0.86            14.2646   \n",
      "4                   6.977778      0.83            11.0446   \n",
      "5                   7.111111      0.85            13.9587   \n",
      "6                   5.522222      0.95            12.3648   \n",
      "..                       ...       ...                ...   \n",
      "92                  7.716667      0.66            15.7297   \n",
      "93                  6.816667      0.71            12.3648   \n",
      "95                  6.122222      0.72             9.8049   \n",
      "97                  6.005556      0.75             7.1162   \n",
      "98                  5.438889      0.88             3.7191   \n",
      "\n",
      "    Wind Bearing (degrees)  Visibility (km)  Loud Cover  Pressure (millibars)  \\\n",
      "0                      251          15.8263           0               1015.13   \n",
      "1                      259          15.8263           0               1015.63   \n",
      "4                      259          15.8263           0               1016.51   \n",
      "5                      258          14.9569           0               1016.66   \n",
      "6                      259           9.9820           0               1016.72   \n",
      "..                     ...              ...         ...                   ...   \n",
      "92                     348          11.0285           0               1005.48   \n",
      "93                      20           9.9820           0               1005.89   \n",
      "95                      11          15.0052           0               1006.56   \n",
      "97                     309          15.8746           0               1007.37   \n",
      "98                     193           9.9820           0               1012.23   \n",
      "\n",
      "                                 Daily Summary  \n",
      "0            Partly cloudy throughout the day.  \n",
      "1            Partly cloudy throughout the day.  \n",
      "4            Partly cloudy throughout the day.  \n",
      "5            Partly cloudy throughout the day.  \n",
      "6            Partly cloudy throughout the day.  \n",
      "..                                         ...  \n",
      "92  Foggy overnight and breezy in the morning.  \n",
      "93  Foggy overnight and breezy in the morning.  \n",
      "95  Foggy overnight and breezy in the morning.  \n",
      "97                Overcast throughout the day.  \n",
      "98                Overcast throughout the day.  \n",
      "\n",
      "[75 rows x 12 columns]\n"
     ]
    }
   ],
   "source": [
    "print(DF1)"
   ]
  },
  {
   "cell_type": "code",
   "execution_count": 37,
   "id": "dcf5dbaa-4d25-42b8-b052-2127222da737",
   "metadata": {},
   "outputs": [
    {
     "name": "stdout",
     "output_type": "stream",
     "text": [
      "(78, 12)\n"
     ]
    }
   ],
   "source": [
    "print(df.shape)"
   ]
  },
  {
   "cell_type": "code",
   "execution_count": 40,
   "id": "60683fa2-8baf-4744-a887-43a7ac036976",
   "metadata": {},
   "outputs": [
    {
     "data": {
      "text/plain": [
       "{'whiskers': [<matplotlib.lines.Line2D at 0x29b32275460>,\n",
       "  <matplotlib.lines.Line2D at 0x29b32275760>],\n",
       " 'caps': [<matplotlib.lines.Line2D at 0x29b32276c00>,\n",
       "  <matplotlib.lines.Line2D at 0x29b32276ba0>],\n",
       " 'boxes': [<matplotlib.lines.Line2D at 0x29b32274fe0>],\n",
       " 'medians': [<matplotlib.lines.Line2D at 0x29b32276f60>],\n",
       " 'fliers': [<matplotlib.lines.Line2D at 0x29b32277590>],\n",
       " 'means': []}"
      ]
     },
     "execution_count": 40,
     "metadata": {},
     "output_type": "execute_result"
    },
    {
     "data": {
      "image/png": "[encoded data removed]",
      "text/plain": [
       "<Figure size 640x480 with 1 Axes>"
      ]
     },
     "metadata": {},
     "output_type": "display_data"
    }
   ],
   "source": [
    "mb.boxplot(DF1['Temperatur'])"
   ]
  },
  {
   "cell_type": "code",
   "execution_count": null,
   "id": "b45c4b10-292f-45ca-bae1-cf335d4e41c1",
   "metadata": {},
   "outputs": [],
   "source": []
  }
 ],
 "metadata": {
  "kernelspec": {
   "display_name": "Python 3 (ipykernel)",
   "language": "python",
   "name": "python3"
  },
  "language_info": {
   "codemirror_mode": {
    "name": "ipython",
    "version": 3
   },
   "file_extension": ".py",
   "mimetype": "text/x-python",
   "name": "python",
   "nbconvert_exporter": "python",
   "pygments_lexer": "ipython3",
   "version": "3.12.0"
  }
 },
 "nbformat": 4,
 "nbformat_minor": 5
}
