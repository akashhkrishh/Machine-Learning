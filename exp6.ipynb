{
 "cells": [
  {
   "cell_type": "code",
   "execution_count": null,
   "id": "0250d6d2",
   "metadata": {},
   "outputs": [],
   "source": [
    "import numpy as np\n",
    "import pandas as pd\n",
    "from pgmpy.estimators import MaximumLikelihoodEstimator\n",
    "from pgmpy.models import BayesianNetwork\n",
    "from pgmpy.inference import VariableElimination"
   ]
  },
  {
   "cell_type": "code",
   "execution_count": null,
   "id": "3bf93d04",
   "metadata": {},
   "outputs": [],
   "source": [
    "heartDisease = pd.read_csv('heart.csv')\n",
    "heartDisease = heartDisease.replace('?',np.nan)"
   ]
  },
  {
   "cell_type": "code",
   "execution_count": null,
   "id": "17ef5558",
   "metadata": {},
   "outputs": [],
   "source": [
    "print('Sample instances from the dataset are given below')\n",
    "print(heartDisease.head())"
   ]
  },
  {
   "cell_type": "code",
   "execution_count": null,
   "id": "c12cc45c",
   "metadata": {},
   "outputs": [],
   "source": [
    "print('\\n Attributes and datatypes')\n",
    "print(heartDisease.dtypes)"
   ]
  },
  {
   "cell_type": "code",
   "execution_count": null,
   "id": "05f3cf6d",
   "metadata": {},
   "outputs": [],
   "source": [
    "model=BayesianNetwork([('age','heartdisease'),('gender','heartdisease'),('cp','heartdisease'),('heartdisease','exang'),('heartdisease','slope')])"
   ]
  },
  {
   "cell_type": "code",
   "execution_count": null,
   "id": "8684d1c3",
   "metadata": {},
   "outputs": [],
   "source": [
    "print('\\nLearning CPD using Maximum likelihood estimators')\n",
    "model.fit(heartDisease,estimator=MaximumLikelihoodEstimator)"
   ]
  },
  {
   "cell_type": "code",
   "execution_count": null,
   "id": "d0a483e5",
   "metadata": {},
   "outputs": [],
   "source": [
    "print('\\n Inferencing with Bayesian Network:')\n",
    "HeartDiseasetest_infer = VariableElimination(model)\n",
    "print('\\n 1. Probability of HeartDisease given evidence = gender\\n')\n",
    "print(HeartDiseasetest_infer.query(variables=['heartdisease'],evidence={'gender':1}))\n",
    "print('\\n 2. Probability of HeartDisease given evidence = cp\\n')\n",
    "print(HeartDiseasetest_infer.query(variables=['heartdisease'],evidence={'cp':2}))\n"
   ]
  },
  {
   "cell_type": "code",
   "execution_count": null,
   "id": "6791fac2",
   "metadata": {},
   "outputs": [],
   "source": []
  }
 ],
 "metadata": {
  "kernelspec": {
   "display_name": "Python 3 (ipykernel)",
   "language": "python",
   "name": "python3"
  },
  "language_info": {
   "codemirror_mode": {
    "name": "ipython",
    "version": 3
   },
   "file_extension": ".py",
   "mimetype": "text/x-python",
   "name": "python",
   "nbconvert_exporter": "python",
   "pygments_lexer": "ipython3",
   "version": "3.12.0"
  }
 },
 "nbformat": 4,
 "nbformat_minor": 5
}
